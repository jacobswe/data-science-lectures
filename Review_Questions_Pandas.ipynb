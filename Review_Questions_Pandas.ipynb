{
 "cells": [
  {
   "cell_type": "code",
   "execution_count": null,
   "metadata": {},
   "outputs": [],
   "source": [
    "import pandas as pd\n",
    "import numpy as np\n",
    "import seaborn as sns\n",
    "sns.set()\n",
    "from matplotlib import pyplot as plt"
   ]
  },
  {
   "cell_type": "markdown",
   "metadata": {},
   "source": [
    "# Review Questions"
   ]
  },
  {
   "cell_type": "markdown",
   "metadata": {},
   "source": [
    "### Numpy"
   ]
  },
  {
   "cell_type": "code",
   "execution_count": null,
   "metadata": {},
   "outputs": [],
   "source": [
    "#Create a list of one integer\n"
   ]
  },
  {
   "cell_type": "code",
   "execution_count": null,
   "metadata": {},
   "outputs": [],
   "source": [
    "#Add three new integers to this list\n"
   ]
  },
  {
   "cell_type": "code",
   "execution_count": null,
   "metadata": {},
   "outputs": [],
   "source": [
    "#Create a numpy array of the list of integers\n"
   ]
  },
  {
   "cell_type": "code",
   "execution_count": null,
   "metadata": {},
   "outputs": [],
   "source": [
    "#Multiply each of the elements by three and create a new list of the results\n"
   ]
  },
  {
   "cell_type": "code",
   "execution_count": null,
   "metadata": {},
   "outputs": [],
   "source": [
    "#Add to the end of this new list a single random normal element\n"
   ]
  },
  {
   "cell_type": "code",
   "execution_count": null,
   "metadata": {},
   "outputs": [],
   "source": [
    "#Print out the length, sum, and mean of the new list\n"
   ]
  },
  {
   "cell_type": "markdown",
   "metadata": {},
   "source": [
    "### Pandas"
   ]
  },
  {
   "cell_type": "code",
   "execution_count": null,
   "metadata": {},
   "outputs": [],
   "source": [
    "#Create a dataframe of shape (10,2) with random normal variables as the body and ('A','B') as columns\n"
   ]
  },
  {
   "cell_type": "code",
   "execution_count": null,
   "metadata": {},
   "outputs": [],
   "source": [
    "#Using the loc() function, find the first three elements of 'B'. Print the result.\n"
   ]
  },
  {
   "cell_type": "code",
   "execution_count": null,
   "metadata": {},
   "outputs": [],
   "source": [
    "#Using the iloc() function, find the last two elements of 'A'. Print the result.\n"
   ]
  },
  {
   "cell_type": "code",
   "execution_count": null,
   "metadata": {},
   "outputs": [],
   "source": [
    "#Create a new column of 'A' in reverse order, name it 'C'. Print the table.\n"
   ]
  },
  {
   "cell_type": "code",
   "execution_count": null,
   "metadata": {},
   "outputs": [],
   "source": [
    "#Print the values of 'B' that are greater than zero but less than 1\n"
   ]
  },
  {
   "cell_type": "markdown",
   "metadata": {},
   "source": [
    "### Seaborn\n",
    "#### FacetGrid versus AxesSubplot\n",
    "I felt that this was unclear leaving our last session, so we will review this quickly in slightly more detail than was gone into at the previous session. Recall that there are two different types of objects returned by methods in Seaborn, an AxesSubplot and a FacetGrid"
   ]
  },
  {
   "cell_type": "code",
   "execution_count": null,
   "metadata": {},
   "outputs": [],
   "source": [
    "print('sns.relplot() Type:',type(sns.relplot(x='X',y='Y',data=pd.DataFrame({'X':[0],'Y':[0]}))))\n",
    "print('sns.scatterplot() Type:',type(sns.scatterplot(x='X',y='Y',data=pd.DataFrame({'X':[0],'Y':[0]}))))\n",
    "plt.close()"
   ]
  },
  {
   "cell_type": "markdown",
   "metadata": {},
   "source": [
    "The difference between the two is slight but important. The AxesSubplot allows you to layer a plot on top of an existing FacetGrid. Likewise, the FacetGrid acts as a base over which different Axes can be plotted.\n",
    "\n",
    "For example:"
   ]
  },
  {
   "cell_type": "code",
   "execution_count": null,
   "metadata": {},
   "outputs": [],
   "source": [
    "X = np.random.randn(10)\n",
    "Y = np.random.randn(10)\n",
    "sns.FacetGrid(data=pd.DataFrame({'X':X,'Y':Y}))"
   ]
  },
  {
   "cell_type": "markdown",
   "metadata": {},
   "source": [
    "This is a FacetGrid, a blank slate with some data that has not been visualized. On top of this, we can plot a scatterplot()."
   ]
  },
  {
   "cell_type": "code",
   "execution_count": null,
   "metadata": {},
   "outputs": [],
   "source": [
    "sns.FacetGrid(data=pd.DataFrame({'X':X,'Y':Y}))\n",
    "sns.scatterplot(x='X',y='Y',data=pd.DataFrame({'X':X,'Y':Y}))"
   ]
  },
  {
   "cell_type": "markdown",
   "metadata": {},
   "source": [
    "But, we cannot overlay a relplot() as it creates a new FacetGrid."
   ]
  },
  {
   "cell_type": "code",
   "execution_count": null,
   "metadata": {},
   "outputs": [],
   "source": [
    "sns.FacetGrid(data=pd.DataFrame({'X':X,'Y':Y}))\n",
    "sns.relplot(x='X',y='Y',data=pd.DataFrame({'X':X,'Y':Y}))"
   ]
  },
  {
   "cell_type": "markdown",
   "metadata": {},
   "source": [
    "However, since relplot() creates a new FacetGrid, we can plot on top of it."
   ]
  },
  {
   "cell_type": "code",
   "execution_count": null,
   "metadata": {},
   "outputs": [],
   "source": [
    "sns.relplot(x='X',y='Y',data=pd.DataFrame({'X':X,'Y':Y}))\n",
    "sns.lineplot(x='X',y='Y',data=pd.DataFrame({'X':X,'Y':Y}))"
   ]
  },
  {
   "cell_type": "markdown",
   "metadata": {},
   "source": [
    "Finally, let's establish which methods return FacetGrids and return to our lesson."
   ]
  },
  {
   "cell_type": "code",
   "execution_count": null,
   "metadata": {},
   "outputs": [],
   "source": [
    "print('sns.relplot() Type:',type(sns.relplot(x='X',y='Y',data=pd.DataFrame({'X':[0],'Y':[0]})))); plt.close()\n",
    "print('sns.catplot() Type:',type(sns.catplot(x='X',y='Y',data=pd.DataFrame({'X':[0],'Y':[0]})))); plt.close()\n",
    "print('sns.lmplot() Type:',type(sns.lmplot(x='X',y='Y',data=pd.DataFrame({'X':[0],'Y':[0]})))); plt.close()"
   ]
  }
 ],
 "metadata": {
  "kernelspec": {
   "display_name": "Python 3",
   "language": "python",
   "name": "python3"
  },
  "language_info": {
   "codemirror_mode": {
    "name": "ipython",
    "version": 3
   },
   "file_extension": ".py",
   "mimetype": "text/x-python",
   "name": "python",
   "nbconvert_exporter": "python",
   "pygments_lexer": "ipython3",
   "version": "3.7.1"
  }
 },
 "nbformat": 4,
 "nbformat_minor": 2
}
