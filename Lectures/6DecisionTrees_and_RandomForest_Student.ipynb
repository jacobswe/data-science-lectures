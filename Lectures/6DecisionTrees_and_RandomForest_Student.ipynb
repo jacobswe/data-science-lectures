{
 "cells": [
  {
   "cell_type": "markdown",
   "metadata": {},
   "source": [
    "# Decision Trees\n",
    "\n",
    "Imagine you have a set of data you would like to classify. One potential solution to this problem would be to attempt to define rules that would allow you to do quickly evaluate where the best locations to split the data are. Then, imagine you could add rules to either side of the decision. This idea of branching based on features is the fundamental concept behind a decision tree.\n",
    "\n",
    "Let's visualize."
   ]
  },
  {
   "cell_type": "code",
   "execution_count": 20,
   "metadata": {},
   "outputs": [],
   "source": [
    "import pandas as pd\n",
    "import numpy as np\n",
    "import graphviz\n",
    "from matplotlib import pyplot as plt\n",
    "import seaborn as sns\n",
    "sns.set()\n",
    "\n",
    "from sklearn import datasets\n",
    "from sklearn import tree\n",
    "from sklearn.tree import DecisionTreeClassifier\n",
    "from sklearn.tree import DecisionTreeRegressor\n",
    "from sklearn.ensemble import RandomForestClassifier\n",
    "from sklearn.ensemble import RandomForestRegressor\n",
    "from sklearn.model_selection import train_test_split\n",
    "from sklearn.model_selection import cross_validate\n",
    "from sklearn.model_selection import cross_val_score\n",
    "from sklearn.model_selection import GridSearchCV\n",
    "from sklearn.metrics import confusion_matrix\n",
    "from sklearn.metrics import precision_score\n",
    "from sklearn.metrics import accuracy_score\n",
    "from sklearn.metrics import roc_auc_score\n",
    "from sklearn import metrics"
   ]
  },
  {
   "cell_type": "code",
   "execution_count": 21,
   "metadata": {},
   "outputs": [
    {
     "data": {
      "text/plain": [
       "<seaborn.axisgrid.FacetGrid at 0x11fa70470>"
      ]
     },
     "execution_count": 21,
     "metadata": {},
     "output_type": "execute_result"
    },
    {
     "data": {
      "image/png": "[encoded data removed]",
      "text/plain": [
       "<Figure size 407.6x360 with 1 Axes>"
      ]
     },
     "metadata": {},
     "output_type": "display_data"
    }
   ],
   "source": [
    "#Data Generation\n",
    "AB, response = datasets.make_blobs(n_samples=100, centers=2, n_features=2, center_box=(-2,2))\n",
    "\n",
    "data = {'A':[],'B':[],'R':[]}\n",
    "for i in AB:\n",
    "    data['A'].append(i[0])\n",
    "    data['B'].append(i[1])\n",
    "    data['R'].append(response[len(data['A'])-1])\n",
    "data = pd.DataFrame(data)\n",
    "\n",
    "sns.relplot(data=data, x='A',y='B', hue='R')"
   ]
  },
  {
   "cell_type": "code",
   "execution_count": 22,
   "metadata": {},
   "outputs": [
    {
     "data": {
      "image/svg+xml": [
       "<?xml version=\"1.0\" encoding=\"UTF-8\" standalone=\"no\"?>\n",
       "<!DOCTYPE svg PUBLIC \"-//W3C//DTD SVG 1.1//EN\"\n",
       " \"http://www.w3.org/Graphics/SVG/1.1/DTD/svg11.dtd\">\n",
       "<!-- Generated by graphviz version 2.40.1 (20161225.0304)\n",
       " -->\n",
       "<!-- Title: Tree Pages: 1 -->\n",
       "<svg width=\"238pt\" height=\"165pt\"\n",
       " viewBox=\"0.00 0.00 238.00 165.00\" xmlns=\"http://www.w3.org/2000/svg\" xmlns:xlink=\"http://www.w3.org/1999/xlink\">\n",
       "<g id=\"graph0\" class=\"graph\" transform=\"scale(1 1) rotate(0) translate(4 161)\">\n",
       "<title>Tree</title>\n",
       "<polygon fill=\"#ffffff\" stroke=\"transparent\" points=\"-4,4 -4,-161 234,-161 234,4 -4,4\"/>\n",
       "<!-- 0 -->\n",
       "<g id=\"node1\" class=\"node\">\n",
       "<title>0</title>\n",
       "<polygon fill=\"none\" stroke=\"#000000\" points=\"168,-157 62,-157 62,-89 168,-89 168,-157\"/>\n",
       "<text text-anchor=\"middle\" x=\"115\" y=\"-141.8\" font-family=\"Times,serif\" font-size=\"14.00\" fill=\"#000000\">X[1] &lt;= &#45;0.142</text>\n",
       "<text text-anchor=\"middle\" x=\"115\" y=\"-126.8\" font-family=\"Times,serif\" font-size=\"14.00\" fill=\"#000000\">entropy = 1.0</text>\n",
       "<text text-anchor=\"middle\" x=\"115\" y=\"-111.8\" font-family=\"Times,serif\" font-size=\"14.00\" fill=\"#000000\">samples = 100</text>\n",
       "<text text-anchor=\"middle\" x=\"115\" y=\"-96.8\" font-family=\"Times,serif\" font-size=\"14.00\" fill=\"#000000\">value = [50, 50]</text>\n",
       "</g>\n",
       "<!-- 1 -->\n",
       "<g id=\"node2\" class=\"node\">\n",
       "<title>1</title>\n",
       "<polygon fill=\"none\" stroke=\"#000000\" points=\"106,-53 0,-53 0,0 106,0 106,-53\"/>\n",
       "<text text-anchor=\"middle\" x=\"53\" y=\"-37.8\" font-family=\"Times,serif\" font-size=\"14.00\" fill=\"#000000\">entropy = 0.953</text>\n",
       "<text text-anchor=\"middle\" x=\"53\" y=\"-22.8\" font-family=\"Times,serif\" font-size=\"14.00\" fill=\"#000000\">samples = 59</text>\n",
       "<text text-anchor=\"middle\" x=\"53\" y=\"-7.8\" font-family=\"Times,serif\" font-size=\"14.00\" fill=\"#000000\">value = [22, 37]</text>\n",
       "</g>\n",
       "<!-- 0&#45;&gt;1 -->\n",
       "<g id=\"edge1\" class=\"edge\">\n",
       "<title>0&#45;&gt;1</title>\n",
       "<path fill=\"none\" stroke=\"#000000\" d=\"M93.1411,-88.9777C87.4932,-80.187 81.4007,-70.7044 75.7104,-61.8477\"/>\n",
       "<polygon fill=\"#000000\" stroke=\"#000000\" points=\"78.5356,-59.7698 70.1856,-53.2485 72.6463,-63.5536 78.5356,-59.7698\"/>\n",
       "<text text-anchor=\"middle\" x=\"64.8684\" y=\"-73.9765\" font-family=\"Times,serif\" font-size=\"14.00\" fill=\"#000000\">True</text>\n",
       "</g>\n",
       "<!-- 2 -->\n",
       "<g id=\"node3\" class=\"node\">\n",
       "<title>2</title>\n",
       "<polygon fill=\"none\" stroke=\"#000000\" points=\"230,-53 124,-53 124,0 230,0 230,-53\"/>\n",
       "<text text-anchor=\"middle\" x=\"177\" y=\"-37.8\" font-family=\"Times,serif\" font-size=\"14.00\" fill=\"#000000\">entropy = 0.901</text>\n",
       "<text text-anchor=\"middle\" x=\"177\" y=\"-22.8\" font-family=\"Times,serif\" font-size=\"14.00\" fill=\"#000000\">samples = 41</text>\n",
       "<text text-anchor=\"middle\" x=\"177\" y=\"-7.8\" font-family=\"Times,serif\" font-size=\"14.00\" fill=\"#000000\">value = [28, 13]</text>\n",
       "</g>\n",
       "<!-- 0&#45;&gt;2 -->\n",
       "<g id=\"edge2\" class=\"edge\">\n",
       "<title>0&#45;&gt;2</title>\n",
       "<path fill=\"none\" stroke=\"#000000\" d=\"M136.8589,-88.9777C142.5068,-80.187 148.5993,-70.7044 154.2896,-61.8477\"/>\n",
       "<polygon fill=\"#000000\" stroke=\"#000000\" points=\"157.3537,-63.5536 159.8144,-53.2485 151.4644,-59.7698 157.3537,-63.5536\"/>\n",
       "<text text-anchor=\"middle\" x=\"165.1316\" y=\"-73.9765\" font-family=\"Times,serif\" font-size=\"14.00\" fill=\"#000000\">False</text>\n",
       "</g>\n",
       "</g>\n",
       "</svg>\n"
      ],
      "text/plain": [
       "<graphviz.files.Source at 0x11fac10b8>"
      ]
     },
     "execution_count": 22,
     "metadata": {},
     "output_type": "execute_result"
    }
   ],
   "source": [
    "#One Deep\n",
    "t = DecisionTreeClassifier(max_depth=1,criterion='entropy')\n",
    "t.fit(data[['A','B']],data['R'])\n",
    "graphviz.Source(tree.export_graphviz(t, out_file=None)) "
   ]
  },
  {
   "cell_type": "markdown",
   "metadata": {},
   "source": [
    "Entropy can be defined as a measure of homogeneity of a group where at $entropy=1$ you have an even mixture of observations and at $entropy=0$ you have a completely pure class. We won't dive to deep into the mathematics, but it can be mathematically expressed as $$entropy=\\sum_{i=1}^n(-p_ilog_2(p_i))$$"
   ]
  },
  {
   "cell_type": "code",
   "execution_count": null,
   "metadata": {},
   "outputs": [],
   "source": [
    "#One Deep Decision Surface\n",
    "x_min, x_max = data['A'].min()-1, data['A'].max()+1\n",
    "y_min, y_max = data['B'].min()-1, data['B'].max()+1\n",
    "xx, yy = np.meshgrid(np.arange(x_min, x_max, .01),np.arange(y_min, y_max, .01))\n",
    "Z = t.predict(np.c_[xx.ravel(), yy.ravel()]).reshape(xx.shape)\n",
    "plt.contourf(xx, yy, Z, cmap='RdBu')\n",
    "plt.scatter(x=data['A'],y=data['B'],c=data['R'],cmap='RdBu',vmin=-.2, vmax=1.2,edgecolors='white')\n",
    "plt.xlabel('A')\n",
    "plt.ylabel('B')"
   ]
  },
  {
   "cell_type": "markdown",
   "metadata": {},
   "source": [
    "Now, to get more precision, we can increase the level of depth."
   ]
  },
  {
   "cell_type": "code",
   "execution_count": null,
   "metadata": {},
   "outputs": [],
   "source": [
    "#Two Deep\n",
    "t = DecisionTreeClassifier(max_depth=2,criterion='entropy')\n",
    "t.fit(data[['A','B']],data['R'])\n",
    "graphviz.Source(tree.export_graphviz(t, out_file=None)) "
   ]
  },
  {
   "cell_type": "code",
   "execution_count": null,
   "metadata": {},
   "outputs": [],
   "source": [
    "#One Deep Decision Surface\n",
    "x_min, x_max = data['A'].min()-1, data['A'].max()+1\n",
    "y_min, y_max = data['B'].min()-1, data['B'].max()+1\n",
    "xx, yy = np.meshgrid(np.arange(x_min, x_max, .01),np.arange(y_min, y_max, .01))\n",
    "Z = t.predict(np.c_[xx.ravel(), yy.ravel()]).reshape(xx.shape)\n",
    "plt.contourf(xx, yy, Z, cmap='RdBu')\n",
    "plt.scatter(x=data['A'],y=data['B'],c=data['R'],cmap='RdBu',vmin=-.2, vmax=1.2,edgecolors='white')\n",
    "plt.xlabel('A')\n",
    "plt.ylabel('B')"
   ]
  },
  {
   "cell_type": "code",
   "execution_count": null,
   "metadata": {},
   "outputs": [],
   "source": [
    "#Very Deep\n",
    "t = DecisionTreeClassifier(max_depth=15,criterion='entropy')\n",
    "t.fit(data[['A','B']],data['R'])\n",
    "x_min, x_max = data['A'].min()-1, data['A'].max()+1\n",
    "y_min, y_max = data['B'].min()-1, data['B'].max()+1\n",
    "xx, yy = np.meshgrid(np.arange(x_min, x_max, .01),np.arange(y_min, y_max, .01))\n",
    "Z = t.predict(np.c_[xx.ravel(), yy.ravel()]).reshape(xx.shape)\n",
    "plt.contourf(xx, yy, Z, cmap='RdBu')\n",
    "plt.scatter(x=data['A'],y=data['B'],c=data['R'],cmap='RdBu',vmin=-.2, vmax=1.2,edgecolors='white')\n",
    "plt.xlabel('A')\n",
    "plt.ylabel('B')"
   ]
  },
  {
   "cell_type": "markdown",
   "metadata": {},
   "source": [
    "Though we may increase the level of accuracy we can achieve (on our train data), what happens is that this is no longer fitting the general trends of the data, rather it is modeling the idiosyncrancries of our dataset. If we are to run a split and then test, we can find what the optimal level of depth is."
   ]
  },
  {
   "cell_type": "code",
   "execution_count": null,
   "metadata": {
    "scrolled": false
   },
   "outputs": [],
   "source": [
    "fig, axs = plt.subplots(ncols=3,nrows=3,figsize=(15,15))\n",
    "\n",
    "for j in range(3):\n",
    "    #Data Generation\n",
    "    AB, response = datasets.make_moons(n_samples=500,noise=0.2*(j+1))\n",
    "\n",
    "    data = {'A':[],'B':[],'R':[]}\n",
    "    for i in AB:\n",
    "        data['A'].append(i[0])\n",
    "        data['B'].append(i[1])\n",
    "        data['R'].append(response[len(data['A'])-1])\n",
    "    data = pd.DataFrame(data)\n",
    "\n",
    "    xx, yy = np.meshgrid(np.arange(data['A'].min()-1, data['A'].max()+1, .01),\n",
    "                         np.arange(data['B'].min()-1, data['B'].max()+1, .01))\n",
    "\n",
    "    #Train/Test Split\n",
    "    X_train, X_test, y_train, y_test = train_test_split(data[['A','B']], data['R'], test_size=0.2)\n",
    "\n",
    "    #Predictions\n",
    "    test_accuracy = []\n",
    "    train_accuracy = []\n",
    "    for i in range(30):\n",
    "        t = DecisionTreeClassifier(max_depth=i+1,criterion='entropy')\n",
    "        t.fit(X_train,y_train)\n",
    "        train = cross_validate(t,X=X_test,y=y_test,scoring='roc_auc',\n",
    "                               cv=3,return_train_score=True)\n",
    "        test_accuracy.append(sum(train['test_score'])/len(train['test_score']))\n",
    "        train_accuracy.append(sum(train['train_score'])/len(train['train_score']))\n",
    "    accs = pd.DataFrame({'Test':test_accuracy, 'Train':train_accuracy}).set_index(np.linspace(1,31,30))\n",
    "\n",
    "    #Create Plots  \n",
    "    sns.scatterplot(data=data, x='A',y='B', hue='R',ax=axs[j,0]).set(title='Data Set')\n",
    "    sns.lineplot(data=accs,ax=axs[j,1]).set(title='Accuracy over Depth')\n",
    "\n",
    "    #Plot Contour\n",
    "    bestDepth = test_accuracy.index(max(test_accuracy))\n",
    "    t = DecisionTreeClassifier(max_depth=bestDepth+1,criterion='entropy')\n",
    "    t.fit(X_train,y_train)\n",
    "    Z = t.predict(np.c_[xx.ravel(), yy.ravel()]).reshape(xx.shape)\n",
    "\n",
    "    axs[j,2].contourf(xx, yy, Z, cmap='RdBu')\n",
    "    axs[j,2].scatter(x=data['A'],y=data['B'],c=data['R'],cmap='RdBu',vmin=-.2, vmax=1.2,edgecolors='white')\n",
    "    axs[j,2].set(xlabel='A',ylabel='B',title='Depth'+str(bestDepth+1))"
   ]
  },
  {
   "cell_type": "markdown",
   "metadata": {},
   "source": [
    "You're not required to shoot in the dark as it come to customization of your tree. There exists something called a hyperparameter. Recall from our session on logistic regression that there are certain inputs you give your model that are not driven by the data - rather selected explicitly. In the case of the hyperparameter $C=\\frac{1}{\\lambda}$ we tune the level of punishment we give for complexity. This type of change results in a different model for each value we give. In the case of a decision tree, we have the following hyperparameters:\n",
    "\n",
    "1) **max_depth**: This is what we see as a the maximum number of layers to go down in the tree, i.e. max splits\n",
    "\n",
    "2) **min_samples_split**: The minimum number or ratio of samples required to have a split, default = 2\n",
    "\n",
    "3) **min_samples_leaf**: The minimum number of samples in a leaf (i.e. end point), default = 1\n",
    "\n",
    "4) **max_features**: The maximum number of features to include, default = unlimited\n",
    "\n",
    "5) **max_leaf_nodes**: The maximum number of leafs allowed, default = unlimited\n",
    "\n",
    "6) **criterion**: 'gini' or 'entropy' (Impurity or Information Gain)\n",
    "\n",
    "There are no hard rules as to what works best - much of this is heavily dependent on the size and quality of your data. For example with millions of data points, you likely don't have a need for leafs with only one observation. Likewise, for small datasets, you will likely find some gain from having that be allowed. This part of model creation is more art than science and requires experimentation.\n",
    "\n",
    "## Regression\n",
    "You can also use this sort of method for regression - to predict a number rather than a category."
   ]
  },
  {
   "cell_type": "code",
   "execution_count": null,
   "metadata": {},
   "outputs": [],
   "source": [
    "#Generate Data\n",
    "X = np.random.randn(200)*2\n",
    "Y = list(map(lambda x: np.sin(x) + np.random.randn(1)[0]/10,X))\n",
    "sns.relplot(x='X',y='Y',data=pd.DataFrame({'X':X,'Y':Y}))"
   ]
  },
  {
   "cell_type": "code",
   "execution_count": null,
   "metadata": {},
   "outputs": [],
   "source": [
    "#Generate Decision Trees\n",
    "fig, axs = plt.subplots(ncols=3,nrows=2,figsize=(15,12))\n",
    "\n",
    "c = 0\n",
    "r = 0\n",
    "for i in range(6):\n",
    "    t = DecisionTreeRegressor(max_depth=i+1,min_samples_leaf=4)\n",
    "    t.fit(np.array(X).reshape(-1,1),Y)\n",
    "    score = t.score(np.array(X).reshape(-1,1),Y)\n",
    "    sns.scatterplot(x='X',y='Y',data=pd.DataFrame({'X':X,'Y':Y}),\n",
    "                    ax=axs[r,c]).set(title='Depth: '+str(i+1)+', Score: '+str(round(score,2)))\n",
    "    p = t.predict(np.array(X).reshape(-1,1))\n",
    "    sns.lineplot(x='X',y='P',data=pd.DataFrame({'X':X,'P':p}),ax=axs[r,c],color='r')\n",
    "    if c == 2 :\n",
    "        c=0\n",
    "        r+=1\n",
    "    else:\n",
    "        c+=1"
   ]
  },
  {
   "cell_type": "markdown",
   "metadata": {},
   "source": [
    "## Tuning the Hyperparameters\n",
    "\n",
    "How we saw above where there is such a large number of tunable variables, we would like to develop a way to analyze the results of our changes to these, and eventually develop a programmatic method for evaluating our success. We will find that the process can be automated to an extent, but as it comes to the complexity accuracy tradeoff, it will become a game of experience and feeling.\n",
    "\n",
    "Let's start by remembering our methods of tuning that we developed during the Logistic Regression session, but for a decision tree. For now, we consider only max_depth."
   ]
  },
  {
   "cell_type": "code",
   "execution_count": null,
   "metadata": {},
   "outputs": [],
   "source": [
    "#Generate Data\n",
    "ABCD, response = datasets.make_blobs(n_samples=500, centers=2,\n",
    "                                     n_features=4, center_box=(-2,2))\n",
    "X_train, X_test, y_train, y_test = train_test_split(ABCD, response, test_size=0.2)\n",
    "\n",
    "depths = [1,2,3,4,5,10,15,20,25,30]\n",
    "accs = []\n",
    "for i in depths:\n",
    "    dtc = DecisionTreeClassifier(max_depth=i)\n",
    "    dtc.fit(X_train,y_train)\n",
    "    accs.append(dtc.score(X_test,y_test))\n",
    "    \n",
    "print('Scores:\\n',pd.DataFrame({'Accuracy':accs},index=depths))"
   ]
  },
  {
   "cell_type": "markdown",
   "metadata": {},
   "source": [
    "From this, we can quickly see how our data is behaving as we increase the depth of the trees. One thing we might also be interested in doing is evaluating this as a cross-validation to make sure that we are getting what is as close to a real number as possible. This may look something like the following."
   ]
  },
  {
   "cell_type": "code",
   "execution_count": null,
   "metadata": {},
   "outputs": [],
   "source": [
    "#Generate Data\n",
    "ABCD, response = datasets.make_blobs(n_samples=500, centers=2,\n",
    "                                     n_features=4, center_box=(-2,2))\n",
    "X_train, X_test, y_train, y_test = train_test_split(ABCD, response, test_size=0.2)\n",
    "\n",
    "depths = [1,2,3,4,5,10,15,20,25,30]\n",
    "accs = []\n",
    "for i in depths:\n",
    "    dtc = DecisionTreeClassifier(max_depth=i)\n",
    "    accs.append(cross_val_score(dtc,ABCD,response,cv=5).mean())\n",
    "    \n",
    "print('Scores:\\n',pd.DataFrame({'Accuracy':accs},index=depths))"
   ]
  },
  {
   "cell_type": "markdown",
   "metadata": {},
   "source": [
    "In the situation that we would like to evaluate more than just the depth of the tree, for example, also the min_samples_leaf, we can nest some for loops to create this behaviors. Let's see."
   ]
  },
  {
   "cell_type": "code",
   "execution_count": null,
   "metadata": {},
   "outputs": [],
   "source": [
    "#Generate Data\n",
    "ABCD, response = datasets.make_blobs(n_samples=500, centers=2,\n",
    "                                     n_features=4, center_box=(-2,2))\n",
    "X_train, X_test, y_train, y_test = train_test_split(ABCD, response, test_size=0.2)\n",
    "\n",
    "depths = [1,2,3,4,5,10,15,20,25,30]\n",
    "leafs = [10,20,30,40,50,60]\n",
    "accs = pd.DataFrame({'Depth':[],'Leaf Size':[],'Accuracy':[]})\n",
    "for i in depths:\n",
    "    for j in leafs:\n",
    "        dtc = DecisionTreeClassifier(max_depth=i,min_samples_leaf=j)\n",
    "        accs = accs.append({'Depth':i,'Leaf Size':j,\n",
    "                     'Accuracy':cross_val_score(dtc,ABCD,response,cv=5).mean()},ignore_index=True)\n",
    "    \n",
    "print('Scores:\\n',accs.sort_values('Accuracy',ascending=False))"
   ]
  },
  {
   "cell_type": "markdown",
   "metadata": {},
   "source": [
    "We can continue to do this sort of methodology with $n$ nested for-loops for $n$ hyperparameters - but who has time for that. SKLearn has an in built feature to do exactly this sort of analysis. This method, called GridSearchCV does more or less exactly what we have been exploring, but with even more features. The way you pass the sets of values you would like to evaluate over is very similar to what we have done so far. Just like in doing our decision trees, we can see that the relationship between the number of hyperparameters and the computation time is exponential.\n",
    "\n",
    "The time to perform these computations has the following form where $\\mid P_k\\mid$ is the length of the list of potential values for each parameter:\n",
    "\n",
    "$$Computation\\ Time=\\left(\\prod_{k=1}^{n}\\mid P_k\\mid\\right)\\times CV,\\ n\\ parameters$$\n",
    "\n",
    "Let's do the same model as above, but with this new technique."
   ]
  },
  {
   "cell_type": "code",
   "execution_count": null,
   "metadata": {},
   "outputs": [],
   "source": [
    "ABCD, response = datasets.make_blobs(n_samples=500, centers=2,\n",
    "                                     n_features=4, center_box=(-2,2))\n",
    "\n",
    "dtc = DecisionTreeClassifier(criterion='entropy') #Note, you can declare a constant hyperparameter in your model\n",
    "grid = {'max_depth':[1,2,3,4,5,10,15,20,25,30],\n",
    "        'min_samples_leaf':[10,20,30,40,50,60]}\n",
    "\n",
    "gs = GridSearchCV(dtc,grid,cv=5,verbose=True,return_train_score=False)\n",
    "gs.fit(ABCD,response)\n",
    "\n",
    "scores = pd.DataFrame(gs.cv_results_).filter(regex='param_+|mean_test_score'\n",
    "                                            ).sort_values('mean_test_score',\n",
    "                                                          ascending=False).reset_index().drop(['index'],axis=1)\n",
    "scores.head(10)"
   ]
  },
  {
   "cell_type": "markdown",
   "metadata": {},
   "source": [
    "It's important to note that this final method to declare scores uses a powerful tool called a regular expression where you can match text based on certain conditions. In our case, we are saying to match anything that starts with 'param_' and has at least one character after that, or something that is exactly 'mean_test_score'. What this gives us is each of our hyperparameters (which are now param_name).\n",
    "\n",
    "Now, as an exercise, you will modify the code that we used to analyze two hyperparameters, and now also include the 'criterion' hyperparameter. Please consult the documentation for details on its possible values. Then print out exactly the same type of table as above with this new column"
   ]
  },
  {
   "cell_type": "code",
   "execution_count": null,
   "metadata": {},
   "outputs": [],
   "source": [
    "ABCD, response = datasets.make_blobs(n_samples=500, centers=2,\n",
    "                                     n_features=4, center_box=(-2,2))\n",
    "\n",
    "dtc = DecisionTreeClassifier()\n",
    "grid = {'max_depth':[1,2,3,4,5,10,15,20,25,30],\n",
    "        'min_samples_leaf':[10,20,30,40,50,60],\n",
    "        'new_param':['list','of','values']}\n",
    "\n",
    "gs = GridSearchCV(dtc,grid,cv=5,verbose=True,return_train_score=False)\n",
    "gs.fit(ABCD,response)\n",
    "\n",
    "scores = pd.DataFrame(gs.cv_results_).filter(regex='param_+|mean_test_score'\n",
    "                                            ).sort_values('mean_test_score',\n",
    "                                                          ascending=False).reset_index().drop(['index'],axis=1)\n",
    "scores.head(10)"
   ]
  },
  {
   "cell_type": "markdown",
   "metadata": {},
   "source": [
    "It might be tempting to simply say, we want to maximize our accuracy so we choose the best performing model. Now, in some cases this may be what you end up doing, but more often, you will select a model that strikes a balance between complexity and accuracy.\n",
    "\n",
    "Let's discuss a theoretical example. If you were to have a model that is evaluating max_depth and min_samples_leaf, what you would like to do is predict accurately and simply to avoid overfitting. One method for this is to do a cost-benefit analysis on the $\\Delta complexity\\ $to$\\ \\Delta accuracy$ relationship.\n",
    "\n",
    "If our output from the grid search were to give us something like: (max_depth,min_samples_leaf,accuracy)=(10,50,.8),(15,50,.802) we must make a decision of which one is better. In thinking of this in terms of the above relationship, we have a percentage change of 50% in max_depth, with a resulting percentage change of 0.25% in accuracy. It should be a relatively safe bet that this change in accuracy would likely fall within a CI of accuracy based on our cross validation, or at least is so insignificant (not in the statistical way, but philosophical way) that including 50% more complexity is not worth it.\n",
    "\n",
    "Based on this, let's go ahead and try to select what we think the best model might be out of scores. Note, there is no right answer to this question (though I would argue there are wrong answers)."
   ]
  },
  {
   "cell_type": "code",
   "execution_count": null,
   "metadata": {},
   "outputs": [],
   "source": [
    "scores.head(20)"
   ]
  },
  {
   "cell_type": "markdown",
   "metadata": {},
   "source": [
    "Now that we can understand decision trees and build a functional, well-tuned model, let's move on to something that is a little bit more complex."
   ]
  },
  {
   "cell_type": "markdown",
   "metadata": {},
   "source": [
    "# Random Forest\n",
    "Just like how having one decision tree is a good way to model data, if you have many simultaneous trees, you can find even better predictive power, especially in situations where you have many features. Similarly to all of the models that we have seen, this can overfit as well. Let's go over the techniques for preparing, analyzing, and predicting."
   ]
  },
  {
   "cell_type": "code",
   "execution_count": null,
   "metadata": {},
   "outputs": [],
   "source": [
    "#Data Generation\n",
    "AB, response = datasets.make_blobs(n_samples=1000, centers=2, n_features=5, center_box=(-2,2))\n",
    "X_train, X_test, y_train, y_test = train_test_split(AB, response, test_size=0.2)"
   ]
  },
  {
   "cell_type": "markdown",
   "metadata": {},
   "source": [
    "In this case, we are dealing with 2 classes, but the process can be generalized to n classes. Let's start with a single tree. This is declared using the n_estimators parameter meaning the number of trees we are using to do our estimation."
   ]
  },
  {
   "cell_type": "code",
   "execution_count": null,
   "metadata": {},
   "outputs": [],
   "source": [
    "rfc = RandomForestClassifier(max_depth=10,n_estimators=5)\n",
    "rfc.fit(X_train,y_train)\n",
    "print(rfc.score(X_test,y_test))"
   ]
  },
  {
   "cell_type": "markdown",
   "metadata": {},
   "source": [
    "As we can see, this behaves exactly like any other model in SKLearn. In fact, there are some methods shared by nearly all models: fit and score. Using these, you can quickly change and evaluate different types of models, something that may come in useful over the following days while you fit your own models.\n",
    "\n",
    "It should be noted that as we increase the complexity of our machine learning models, what we are going to find is that computation will take longer and longer. Oftentimes, in preparing my own models I will be tuning hyperparameters on a time scale measured in hours rather than in miliseconds as we have had so far. If your projects end up requiring a significant amount of processing power, we can consult on techniques to offload this CPU demand to the cloud - but for now we will simply suffer the waiting.\n",
    "\n",
    "Below you will see some skeleton code for how to implement the grid search over our newfound parameter for the number of trees. It will be your task to flesh out this code."
   ]
  },
  {
   "cell_type": "code",
   "execution_count": null,
   "metadata": {},
   "outputs": [],
   "source": [
    "Xs, y = datasets.make_classification(n_samples=500,n_features=5,n_redundant=1,n_informative=4)\n",
    "\n",
    "rfc = RandomForestClassifier() \n",
    "grid = {'param':['list'],\n",
    "        'param':['list'],\n",
    "        'param':['list']}\n",
    "\n",
    "gs = GridSearchCV(rfc,grid,cv=5,verbose=True,return_train_score=False)\n",
    "gs.fit(Xs,y)\n",
    "\n",
    "scores = pd.DataFrame(gs.cv_results_).filter(regex='param_+|mean_test_score'\n",
    "                                            ).sort_values('mean_test_score',\n",
    "                                                          ascending=False).reset_index().drop(['index'],axis=1)\n",
    "scores.head(10)"
   ]
  },
  {
   "cell_type": "markdown",
   "metadata": {},
   "source": [
    "Just like how we saw the numerical prediction equivalent to DecisionTreeClassifier is DecisionTreeRegressor, the numerical predictor for RandomForestClassifier is RandomForestRegressor. There is really no difference between how you evaluate the accuracy of a classifier versus a regression model for RandomForest, and you gain a little more freedom than in pure regressions as the assumptions are relaxed. In general, so long as the model performs well for regression, all is okay.\n",
    "\n",
    "Let's see a quick example of how we can do this."
   ]
  },
  {
   "cell_type": "code",
   "execution_count": null,
   "metadata": {},
   "outputs": [],
   "source": [
    "Xs, y = datasets.make_regression(n_samples=500,n_features=5,n_informative=4,noise=0.5)\n",
    "\n",
    "rfr = RandomForestRegressor() \n",
    "grid = {'n_estimators':[1,2,3,4,5,10,15,20],\n",
    "        'max_depth':[1,2,3,4,5,6,7,8,9,10],\n",
    "        'min_samples_leaf':[10,20,30,40,50]}\n",
    "\n",
    "gs = GridSearchCV(rfr,grid,cv=5,verbose=True,return_train_score=False)\n",
    "gs.fit(Xs,y)\n",
    "\n",
    "scores = pd.DataFrame(gs.cv_results_).filter(regex='param_+|mean_test_score'\n",
    "                                            ).sort_values('mean_test_score',\n",
    "                                                          ascending=False).reset_index().drop(['index'],axis=1)\n",
    "scores.head(10)"
   ]
  },
  {
   "cell_type": "markdown",
   "metadata": {},
   "source": [
    "As individuals, please now select which model you think performs the best based on what you can see in the scores and relative complexity - note that the number of estimators is a huge complexity factor.\n",
    "\n",
    "Please then make a plot of the residuals for this graph by plotting the predicted values against the real values of y."
   ]
  },
  {
   "cell_type": "code",
   "execution_count": null,
   "metadata": {},
   "outputs": [],
   "source": []
  },
  {
   "cell_type": "markdown",
   "metadata": {},
   "source": [
    "Now that we have built out well tuned models for both regression and classification, you are ready to go out and build for real!\n",
    "\n",
    "Before that though, let's speak briefly on how we should go about evaluating our successes."
   ]
  },
  {
   "cell_type": "markdown",
   "metadata": {},
   "source": [
    "## Evaluating Accuracy\n",
    "The below will illustrate three very similar measures of accuracy that you will select based on what sort of performance you care about in your model. Generally, the behavior of one will be highly correlated to the behavior of another with them often having exactly the same model all the way through to the thousands place."
   ]
  },
  {
   "cell_type": "code",
   "execution_count": null,
   "metadata": {},
   "outputs": [],
   "source": [
    "#Train/Test Split\n",
    "X_train, X_test, y_train, y_test = train_test_split(AB, response, test_size=0.2)\n",
    "\n",
    "#Predictions\n",
    "accuracy = []\n",
    "precision = []\n",
    "roc = []\n",
    "for i in range(30):\n",
    "    t = DecisionTreeClassifier(max_depth=i+1,criterion='entropy')\n",
    "    t.fit(X_train,y_train)\n",
    "    accuracy.append(accuracy_score(y_test,t.predict(X_test)))\n",
    "    precision.append(precision_score(y_test,t.predict(X_test),average='macro'))\n",
    "    roc.append(roc_auc_score(y_test,t.predict(X_test),average='macro'))\n",
    "\n",
    "#Create Plots  \n",
    "fig, axs = plt.subplots(ncols=3,figsize=(15,5))\n",
    "sns.lineplot(x='Depth',y='Accuracy',data=pd.DataFrame({'Depth':np.linspace(1,31,30),'Accuracy':accuracy}),\n",
    "             ax=axs[0]).set(title='Prediction Accuracy over Depth')\n",
    "sns.lineplot(x='Depth',y='Precision',data=pd.DataFrame({'Depth':np.linspace(1,31,30),'Precision':precision}),\n",
    "             ax=axs[1]).set(title='Prediction Precision over Depth')\n",
    "sns.lineplot(x='Depth',y='AUC',data=pd.DataFrame({'Depth':np.linspace(1,31,30),'AUC':roc}),\n",
    "             ax=axs[2]).set(title='Prediction AUC over Depth')"
   ]
  },
  {
   "cell_type": "markdown",
   "metadata": {},
   "source": [
    "What we see are three different calculations for how to evaluate the success of a model.\n",
    "\n",
    "$$tp=True\\ Positive,\\ tn=True\\ Negative,\\ fp=False\\ Positive,\\ fn=False\\ Negative$$\n",
    "\n",
    "$$Accuracy = \\frac{tp+tn}{tp+tn+fp+fn}$$\n",
    "\n",
    "$$Precision = \\frac{tp}{tp+fp}$$\n",
    "\n",
    "$$AUC=Area\\ Under\\ ROC\\ Curve$$\n",
    "\n",
    "Let us quickly also review what the ROC AUC means."
   ]
  },
  {
   "cell_type": "code",
   "execution_count": null,
   "metadata": {},
   "outputs": [],
   "source": [
    "Xs, y = datasets.make_moons(n_samples=500,noise=0.3)\n",
    "\n",
    "#Train/Test Split\n",
    "X_train, X_test, y_train, y_test = train_test_split(Xs, y, test_size=0.2)\n",
    "\n",
    "#Predictions\n",
    "rfc = RandomForestClassifier(max_depth=10,n_estimators=5).fit(X_train,y_train)\n",
    "aucscore = metrics.roc_auc_score(rfc.predict(X_test),y_test)\n",
    "\n",
    "##Computing false and true positive rates\n",
    "fpr, tpr,_= metrics.roc_curve(rfc.predict(X_test),y_test,drop_intermediate=False)\n",
    "\n",
    "##Adding the ROC\n",
    "plt.plot(fpr, tpr, color='red',lw=2, label='ROC curve')\n",
    "plt.plot([0, 1], [0, 1], color='blue', lw=2, linestyle='--')\n",
    "plt.xlabel('FPR')\n",
    "plt.ylabel('TPR')\n",
    "plt.title('ROC Curve AUC = '+str(aucscore.round(4)))\n",
    "plt.show()"
   ]
  },
  {
   "cell_type": "markdown",
   "metadata": {},
   "source": [
    "## Visualizing Random Forest Model Selection\n",
    "The below heatmaps show each of the measures of accuracy based on a set of heatmaps that have color representing the predictive capability of the model. This is an easy way of being able to quickly spot which families of models are likely going to be the best performing. As you move away from the origin, you would like to maximize the green while minimizing the distance you have to travel."
   ]
  },
  {
   "cell_type": "code",
   "execution_count": null,
   "metadata": {},
   "outputs": [],
   "source": [
    "#Train/Test Split\n",
    "AB, response = datasets.make_moons(n_samples=500,noise=0.5)\n",
    "X_train, X_test, y_train, y_test = train_test_split(AB, response, test_size=0.40)\n",
    "\n",
    "scores = {'Accuracy':[],'Precision':[],'ROC':[]}\n",
    "for i in range(30):\n",
    "    scores_acc = []\n",
    "    scores_pre = []\n",
    "    scores_roc = []\n",
    "    for j in range(20):\n",
    "        rf = RandomForestClassifier(n_estimators=i+1,max_depth=j+1)\n",
    "        rf.fit(X_train,y_train)\n",
    "        splits=3\n",
    "        scores_acc.append(accuracy_score(y_test,rf.predict(X_test)))\n",
    "        scores_pre.append(precision_score(y_test,rf.predict(X_test),average='micro'))\n",
    "        scores_roc.append(roc_auc_score(y_test,rf.predict(X_test),average='micro'))\n",
    "    scores['Accuracy'].append(scores_acc)\n",
    "    scores['Precision'].append(scores_pre)\n",
    "    scores['ROC'].append(scores_roc)"
   ]
  },
  {
   "cell_type": "code",
   "execution_count": null,
   "metadata": {},
   "outputs": [],
   "source": [
    "fig, axs = plt.subplots(ncols=3,figsize=(16,10))\n",
    "cbar_ax = fig.add_axes([.91,.3,.03,.4])\n",
    "\n",
    "for i in range(3):\n",
    "    sns.heatmap(scores[list(scores.keys())[i]],xticklabels=np.arange(20)+1,yticklabels=np.arange(30)+1,\n",
    "                cmap='RdYlGn',ax=axs[i],cbar = i==0,cbar_ax=None if i else cbar_ax)\n",
    "    axs[i].set(title=list(scores.keys())[i],xlabel='Tree Depth',ylabel='Number of Trees')\n",
    "    axs[i].set_xticklabels(np.arange(20)+1,rotation=0)\n",
    "    axs[i].invert_yaxis()\n",
    "\n",
    "fig.tight_layout(rect=[0, 0, .9, 1])"
   ]
  },
  {
   "cell_type": "markdown",
   "metadata": {},
   "source": [
    "You can now select and predict based on whichever tree you feel may give you the best outcome. In our case, accuracy is likely ging to be the deciding factor."
   ]
  },
  {
   "cell_type": "markdown",
   "metadata": {},
   "source": [
    "## A Final Test\n",
    "\n",
    "We would like to now be able to check our understanding. Please take 15-30 minutes to build out each of these regression and classification models using the automated tuning system and select what you think the best model is and why. Then please discuss in your group why you chose that model."
   ]
  },
  {
   "cell_type": "code",
   "execution_count": null,
   "metadata": {},
   "outputs": [],
   "source": [
    "Xs, y = datasets.make_classification(n_samples=500,n_features=5,n_redundant=0)"
   ]
  },
  {
   "cell_type": "code",
   "execution_count": null,
   "metadata": {},
   "outputs": [],
   "source": [
    "Xs, y = datasets.make_regression(n_samples=500,n_features=5,noise=0.5)"
   ]
  },
  {
   "cell_type": "code",
   "execution_count": null,
   "metadata": {},
   "outputs": [],
   "source": []
  }
 ],
 "metadata": {
  "kernelspec": {
   "display_name": "Python 3",
   "language": "python",
   "name": "python3"
  },
  "language_info": {
   "codemirror_mode": {
    "name": "ipython",
    "version": 3
   },
   "file_extension": ".py",
   "mimetype": "text/x-python",
   "name": "python",
   "nbconvert_exporter": "python",
   "pygments_lexer": "ipython3",
   "version": "3.7.1"
  }
 },
 "nbformat": 4,
 "nbformat_minor": 2
}
