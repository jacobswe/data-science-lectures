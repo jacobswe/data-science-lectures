{
 "cells": [
  {
   "cell_type": "markdown",
   "metadata": {},
   "source": [
    "# Pandas and Numpy Features for Data Cleaning and Manipulation\n",
    "### This notebook will give an introduction to manipulating data with Pandas and Numpy"
   ]
  },
  {
   "cell_type": "code",
   "execution_count": 2,
   "metadata": {},
   "outputs": [],
   "source": [
    "#Importing and naming the packages\n",
    "import pandas as pd\n",
    "import numpy as np"
   ]
  },
  {
   "cell_type": "markdown",
   "metadata": {},
   "source": [
    "# Lists"
   ]
  },
  {
   "cell_type": "code",
   "execution_count": null,
   "metadata": {},
   "outputs": [],
   "source": [
    "#Lists - an ordered series of data (Integer, Float, Objects, etc.)\n",
    "a = ['Hello','World']\n",
    "print(a)"
   ]
  },
  {
   "cell_type": "markdown",
   "metadata": {},
   "source": [
    "#### Lists can be changed via native functions to Python."
   ]
  },
  {
   "cell_type": "code",
   "execution_count": null,
   "metadata": {},
   "outputs": [],
   "source": [
    "#Via appending to the end\n",
    "a.append('!')\n",
    "print(a)"
   ]
  },
  {
   "cell_type": "code",
   "execution_count": null,
   "metadata": {},
   "outputs": [],
   "source": [
    "#Or extending multiple items.\n",
    "a.extend(['I','Am','A','List','.'])\n",
    "print(a)"
   ]
  },
  {
   "cell_type": "code",
   "execution_count": null,
   "metadata": {},
   "outputs": [],
   "source": [
    "#You can also remove an item\n",
    "a.remove('World')\n",
    "print(a)"
   ]
  },
  {
   "cell_type": "code",
   "execution_count": null,
   "metadata": {},
   "outputs": [],
   "source": [
    "#Or put one back in\n",
    "a.insert(1,'Hello')\n",
    "print(a)"
   ]
  },
  {
   "cell_type": "code",
   "execution_count": null,
   "metadata": {},
   "outputs": [],
   "source": [
    "#Count a number of entries\n",
    "a.count('Hello')"
   ]
  },
  {
   "cell_type": "code",
   "execution_count": null,
   "metadata": {},
   "outputs": [],
   "source": [
    "#Organize by Value\n",
    "a.sort()\n",
    "print(a)"
   ]
  },
  {
   "cell_type": "code",
   "execution_count": null,
   "metadata": {},
   "outputs": [],
   "source": [
    "#Switch the order around\n",
    "a.reverse()\n",
    "print(a)"
   ]
  },
  {
   "cell_type": "code",
   "execution_count": null,
   "metadata": {},
   "outputs": [],
   "source": [
    "#Grab a single item\n",
    "a.pop(0)"
   ]
  },
  {
   "cell_type": "code",
   "execution_count": null,
   "metadata": {},
   "outputs": [],
   "source": [
    "#Or clear the entire thing\n",
    "a.clear()\n",
    "print(a)"
   ]
  },
  {
   "cell_type": "markdown",
   "metadata": {},
   "source": [
    "### Practice\n",
    "#### Create an empty list. Add a set of five numbers to it. Then, iterate through that list and multiply each number by 2. Finall sort the values and print them."
   ]
  },
  {
   "cell_type": "code",
   "execution_count": null,
   "metadata": {},
   "outputs": [],
   "source": [
    "a = []\n",
    "a.extend([1,2,3,4,5])\n",
    "for i in range(len(a)): a[i]=a[i]*2\n",
    "a.sort()\n",
    "print(a)"
   ]
  },
  {
   "cell_type": "markdown",
   "metadata": {},
   "source": [
    "# Numpy\n",
    "### Numpy arrays are similar. They are also an ordered series of items."
   ]
  },
  {
   "cell_type": "code",
   "execution_count": null,
   "metadata": {},
   "outputs": [],
   "source": [
    "#They can be created directly from Lists\n",
    "a = np.array([1, 2, 3, 4, 5])\n",
    "print(a)"
   ]
  },
  {
   "cell_type": "code",
   "execution_count": null,
   "metadata": {},
   "outputs": [],
   "source": [
    "#And have multiple dimensions\n",
    "a = np.array([[1,2],[3,4]])\n",
    "print(a)"
   ]
  },
  {
   "cell_type": "code",
   "execution_count": 5,
   "metadata": {},
   "outputs": [
    {
     "name": "stdout",
     "output_type": "stream",
     "text": [
      "[0. 0. 0. 0. 0. 0. 0. 0. 0. 0.] : zeros\n",
      "\n",
      "[[1. 1. 1.]\n",
      " [1. 1. 1.]\n",
      " [1. 1. 1.]] : ones\n",
      "\n",
      "[[2.92 2.92 2.92]\n",
      " [2.92 2.92 2.92]\n",
      " [2.92 2.92 2.92]] : 2.92s\n",
      "\n",
      "[ 1  2  3  4  5  6  7  8  9 10] : 1 - 11\n",
      "\n",
      "[0.         3.14159265 6.28318531] : linearly spaced\n",
      "\n",
      "[0.69646919 0.28613933 0.22685145 0.55131477 0.71946897] : random numbers\n",
      "\n",
      "[ 0.32210607 -0.05151772 -0.20420096  1.97934843 -1.61930007] : normal random\n",
      "\n",
      "[9 3 4 0 0] : integer random\n"
     ]
    },
    {
     "name": "stderr",
     "output_type": "stream",
     "text": [
      "/Users/jacobswe/miniconda3/lib/python3.7/site-packages/ipykernel_launcher.py:19: DeprecationWarning: object of type <class 'float'> cannot be safely interpreted as an integer.\n"
     ]
    }
   ],
   "source": [
    "#And have many more features\n",
    "#Creating zeros\n",
    "a = np.zeros(10, dtype=float)\n",
    "print(a,': zeros\\n')\n",
    "\n",
    "#Creating ones\n",
    "b = np.ones((3, 3))\n",
    "print(b,': ones\\n')\n",
    "\n",
    "#For any other number\n",
    "c = np.full((3, 3), 2.92)\n",
    "print(c,': 2.92s\\n')\n",
    "\n",
    "#For a range of numbers\n",
    "d = np.arange(1, 11)\n",
    "print(d,': 1 - 11\\n')\n",
    "\n",
    "#For evenly spaced between two numbers\n",
    "e = np.linspace(0, np.pi*2, np.pi)\n",
    "print(e,': linearly spaced\\n')\n",
    "\n",
    "#For Random Numbers\n",
    "np.random.seed(123)\n",
    "f = np.random.random(5)\n",
    "print(f,': random numbers\\n')\n",
    "\n",
    "#For Normal Random\n",
    "g = np.random.randn(5)\n",
    "print(g,': normal random\\n')\n",
    "\n",
    "#Random integers between 0 and 10\n",
    "h = np.random.randint(0, 10, size=5)\n",
    "print(h,': integer random')"
   ]
  },
  {
   "cell_type": "code",
   "execution_count": null,
   "metadata": {},
   "outputs": [],
   "source": [
    "#You can also apply computations over entire arrays\n",
    "a = np.array([1, 2, 3, 4, 5])\n",
    "b = np.sin(a*np.pi/2)\n",
    "print(b)"
   ]
  },
  {
   "cell_type": "markdown",
   "metadata": {},
   "source": [
    "### Practice\n",
    "#### Create an array of the numbers  1 - 100, apply a modulus of 3 to the numbers. Print the results"
   ]
  },
  {
   "cell_type": "code",
   "execution_count": null,
   "metadata": {},
   "outputs": [],
   "source": [
    "print(np.arange(1,100)%3)"
   ]
  },
  {
   "cell_type": "markdown",
   "metadata": {},
   "source": [
    "# Pandas\n",
    "### Pandas also has its own approach to list-like data with a label (automatically or manually applied) and a value"
   ]
  },
  {
   "cell_type": "code",
   "execution_count": null,
   "metadata": {},
   "outputs": [],
   "source": [
    "#Series from List\n",
    "a = pd.Series([1, 3, 5, 7, 10])\n",
    "print(a)\n",
    "\n",
    "#Series of Single Value\n",
    "b = pd.Series(1, index=['A', 'B', 'C'])\n",
    "print(b)\n",
    "\n",
    "#Series from Dictionary\n",
    "c = pd.Series({1: 'A', 2: 'B', 3: 'C'})\n",
    "print(c)\n",
    "\n",
    "#Series of Zeros\n",
    "d = pd.Series(np.random.randint(10, size=5))\n",
    "print(d)"
   ]
  },
  {
   "cell_type": "code",
   "execution_count": null,
   "metadata": {},
   "outputs": [],
   "source": [
    "#Series can be calculated over with looping\n",
    "b = a*2\n",
    "print(b)\n",
    "\n",
    "c = b%3\n",
    "print(c)"
   ]
  },
  {
   "cell_type": "code",
   "execution_count": null,
   "metadata": {},
   "outputs": [],
   "source": [
    "#And also allow for quick checking of the items in the list\n",
    "a = pd.Series({'A':1,'B':2})\n",
    "print('C' in a)\n",
    "print('A' in a)"
   ]
  },
  {
   "cell_type": "markdown",
   "metadata": {},
   "source": [
    "### More often though, your data will work better as a DataFrame. This is essentially the way Pandas represents tabular data, such as you would see in SQL or Excel."
   ]
  },
  {
   "cell_type": "code",
   "execution_count": null,
   "metadata": {},
   "outputs": [],
   "source": [
    "#DataFrame from Dictionary\n",
    "df = pd.DataFrame([{'A': i, 'B': 2*i} for i in range(3)]) \n",
    "print(df)\n",
    "\n",
    "#DataFrame from Series\n",
    "population_series = pd.Series({'California': 38332521,\n",
    "                        'Texas': 26448193,\n",
    "                        'New York': 19651127,\n",
    "                        'Florida': 19552860})\n",
    "population_df = pd.DataFrame(population_series, columns=['Population'])\n",
    "print(population_df)\n",
    "\n",
    "#DataFrame from Dictionary\n",
    "area_series = pd.Series({'California': 423967,\n",
    "                  'Texas': 695662,\n",
    "                  'New York': 141297,\n",
    "                  'Florida': 170312,\n",
    "                  'Illinois': 149995})\n",
    "area_df = pd.DataFrame({'Population': population_series,\n",
    "                  'area': area_series})\n",
    "print(area_df)"
   ]
  },
  {
   "cell_type": "code",
   "execution_count": null,
   "metadata": {},
   "outputs": [],
   "source": [
    "#You can also very quickly create new columns and formulas\n",
    "df['C'] = df['B']*2\n",
    "print(df)"
   ]
  },
  {
   "cell_type": "code",
   "execution_count": null,
   "metadata": {},
   "outputs": [],
   "source": [
    "#As well as dropping them (Axis = 1 means columns, Axis = 2 means rows)\n",
    "df = df.drop('C', axis=1)\n",
    "print(df)"
   ]
  },
  {
   "cell_type": "markdown",
   "metadata": {},
   "source": [
    "### Through these main features of Pandas, you can create nearly anything you want. Lets work with some larger data"
   ]
  },
  {
   "cell_type": "markdown",
   "metadata": {},
   "source": [
    "Data can be imported by reading a CSV or just about any filetype. For example:\n",
    "\n",
    "*data = read_csv('~/Downloads/data.csv')*\n",
    "\n",
    "This would read a CSV of name data.csv from your downloads folder on a Mac.\n",
    "\n",
    "In our case, we will import some data from another package."
   ]
  },
  {
   "cell_type": "code",
   "execution_count": null,
   "metadata": {},
   "outputs": [],
   "source": [
    "from sklearn import datasets\n",
    "\n",
    "iris = datasets.load_iris()\n",
    "data = iris.data\n",
    "feature_names = iris.feature_names\n",
    "\n",
    "data = pd.DataFrame(data,columns=feature_names)\n",
    "data.head(5)"
   ]
  },
  {
   "cell_type": "markdown",
   "metadata": {},
   "source": [
    "### Let's learn a little more about this data"
   ]
  },
  {
   "cell_type": "code",
   "execution_count": null,
   "metadata": {},
   "outputs": [],
   "source": [
    "#This will give quick summary statistics about our columns\n",
    "data.describe()"
   ]
  },
  {
   "cell_type": "markdown",
   "metadata": {},
   "source": [
    "### Let's work on selecting data out of these 150 points"
   ]
  },
  {
   "cell_type": "code",
   "execution_count": null,
   "metadata": {},
   "outputs": [],
   "source": [
    "#Grabbing a row. Syntax: 'From:To(:Step)' Steps optional, with empty values being non-limited\n",
    "row = data[:1]\n",
    "print(row)\n",
    "\n",
    "rows = data[0:5]\n",
    "print(\"\\n\",rows)\n",
    "\n",
    "all_rows = data[0:]\n",
    "print(\"\\n\",len(all_rows))\n",
    "\n",
    "half_rows = data[0::2]\n",
    "print(\"\\n\",len(half_rows))"
   ]
  },
  {
   "cell_type": "code",
   "execution_count": null,
   "metadata": {},
   "outputs": [],
   "source": [
    "#More complicated operations can also be performed\n",
    "reverse_rows = data[::-1]\n",
    "print(reverse_rows.head(5))\n",
    "print(all_rows.tail(5))"
   ]
  },
  {
   "cell_type": "markdown",
   "metadata": {},
   "source": [
    "### Data can also be treated more generally by using loc and iloc methods.\n",
    "### First, in a Series"
   ]
  },
  {
   "cell_type": "code",
   "execution_count": null,
   "metadata": {},
   "outputs": [],
   "source": [
    "#Explicit Indexing\n",
    "a = pd.Series([0.25, 0.5, 0.75, 1.0],\n",
    "            index=['A', 'B', 'C', 'D'])\n",
    "print(a)\n",
    "print(a['A'])\n",
    "print(a.loc['B'])"
   ]
  },
  {
   "cell_type": "code",
   "execution_count": null,
   "metadata": {},
   "outputs": [],
   "source": [
    "#Implicit Indexing\n",
    "a = pd.Series([0.25, 0.5, 0.75, 1.0])\n",
    "print(a)\n",
    "print(a[0])\n",
    "print(a.iloc[1])"
   ]
  },
  {
   "cell_type": "markdown",
   "metadata": {},
   "source": [
    "### Now in a DataFrame"
   ]
  },
  {
   "cell_type": "code",
   "execution_count": null,
   "metadata": {},
   "outputs": [],
   "source": [
    "#Choosing Data using loc, using the same Syntax as above.\n",
    "a = pd.DataFrame(np.random.randint(10, size=10),\n",
    "                index=[1,3,5,9,11,13,15,17,19,21])\n",
    "\n",
    "#Using Explicit Index\n",
    "print(\"Explicit\\n\",a.loc[:5])\n",
    "\n",
    "#Using Implicit Index\n",
    "print(\"\\nImplicit\\n\",a.iloc[:5])"
   ]
  },
  {
   "cell_type": "markdown",
   "metadata": {},
   "source": [
    "### How about selecting data in higher dimensions?"
   ]
  },
  {
   "cell_type": "code",
   "execution_count": null,
   "metadata": {},
   "outputs": [],
   "source": [
    "#For the Iris data\n",
    "rows = data.iloc[:5]\n",
    "print('First five rows:\\n',rows,'\\n')\n",
    "\n",
    "col_rows = data.iloc[:5,:2]\n",
    "print('First five rows, first two columns:\\n',col_rows)"
   ]
  },
  {
   "cell_type": "code",
   "execution_count": null,
   "metadata": {},
   "outputs": [],
   "source": [
    "#Getting Exact Cells\n",
    "cell = data.iloc[2,2]\n",
    "print('Second row, second column:\\n',cell)"
   ]
  },
  {
   "cell_type": "markdown",
   "metadata": {},
   "source": [
    "### So how can you change this data?\n",
    "#### Numpy"
   ]
  },
  {
   "cell_type": "code",
   "execution_count": null,
   "metadata": {},
   "outputs": [],
   "source": [
    "#Numpy\n",
    "a = np.random.randint(20, size=(4,3))\n",
    "print(a)"
   ]
  },
  {
   "cell_type": "code",
   "execution_count": null,
   "metadata": {},
   "outputs": [],
   "source": [
    "#Numpy links back to the original when you subset your data - this will change the original\n",
    "a_part = a[:2,:2]\n",
    "a_part[0,0] = 2\n",
    "print(a)"
   ]
  },
  {
   "cell_type": "markdown",
   "metadata": {},
   "source": [
    "#### Pandas"
   ]
  },
  {
   "cell_type": "code",
   "execution_count": null,
   "metadata": {},
   "outputs": [],
   "source": [
    "#Pandas does not. This simply creates a new view of the data, a copy that will not change the original\n",
    "a = pd.DataFrame(a)\n",
    "a_part = a.iloc[:2,:2]\n",
    "a_part[0,0] = 4\n",
    "print(a)"
   ]
  },
  {
   "cell_type": "code",
   "execution_count": null,
   "metadata": {},
   "outputs": [],
   "source": [
    "#But you can still explicitly go about changing these values by avoiding subsetting the data\n",
    "a.iloc[0,0] = 4\n",
    "print(a)"
   ]
  },
  {
   "cell_type": "markdown",
   "metadata": {},
   "source": [
    "### How then can you check the shape of your data to help locate points?"
   ]
  },
  {
   "cell_type": "code",
   "execution_count": null,
   "metadata": {},
   "outputs": [],
   "source": [
    "#Number of dimensions\n",
    "print(\"Iris Dimensions: \", data.ndim,\"\\n\")\n",
    "\n",
    "#(Rows,Columns)\n",
    "print(\"Iris Shape: \", data.shape,\"\\n\")\n",
    "\n",
    "#Number of Elements\n",
    "print(\"Iris Size: \", data.size,\"\\n\")\n",
    "\n",
    "#Data Types\n",
    "print(\"Iris Types:\\n\", data.dtypes)"
   ]
  },
  {
   "cell_type": "markdown",
   "metadata": {},
   "source": [
    "### Lastly, you can manipulate your data by adding Boolean restrictions."
   ]
  },
  {
   "cell_type": "markdown",
   "metadata": {},
   "source": [
    "#### Say you want to know how many of the petals are above average for length."
   ]
  },
  {
   "cell_type": "code",
   "execution_count": null,
   "metadata": {},
   "outputs": [],
   "source": [
    "#Start by grabbing out the data\n",
    "lengths = pd.DataFrame(data.iloc[:,2])\n",
    "lengths.head(5)\n",
    "print(lengths.iloc[0])"
   ]
  },
  {
   "cell_type": "code",
   "execution_count": null,
   "metadata": {},
   "outputs": [],
   "source": [
    "#Instead of:\n",
    "above = 0\n",
    "mean = float(lengths.mean(0))\n",
    "for i in range(len(lengths)):\n",
    "    if float(lengths.iloc[i]) > mean:\n",
    "        above += 1\n",
    "above"
   ]
  },
  {
   "cell_type": "code",
   "execution_count": null,
   "metadata": {},
   "outputs": [],
   "source": [
    "#You can:\n",
    "data[data['petal length (cm)'] > data['petal length (cm)'].mean()].shape[0]"
   ]
  },
  {
   "cell_type": "code",
   "execution_count": null,
   "metadata": {},
   "outputs": [],
   "source": [
    "#And then you can add more restrictions:\n",
    "data[(data['petal length (cm)'] > 1) & (data['petal length (cm)'] < 2)].shape[0]"
   ]
  },
  {
   "cell_type": "markdown",
   "metadata": {},
   "source": [
    "## Some Practice:\n",
    "### Tell me how many observations have above average petal length and width."
   ]
  },
  {
   "cell_type": "code",
   "execution_count": null,
   "metadata": {},
   "outputs": [],
   "source": []
  },
  {
   "cell_type": "markdown",
   "metadata": {},
   "source": [
    "### Tell me what the average petal length is for those observations with petal width above average."
   ]
  },
  {
   "cell_type": "code",
   "execution_count": null,
   "metadata": {},
   "outputs": [],
   "source": []
  }
 ],
 "metadata": {
  "kernelspec": {
   "display_name": "Python 3",
   "language": "python",
   "name": "python3"
  },
  "language_info": {
   "codemirror_mode": {
    "name": "ipython",
    "version": 3
   },
   "file_extension": ".py",
   "mimetype": "text/x-python",
   "name": "python",
   "nbconvert_exporter": "python",
   "pygments_lexer": "ipython3",
   "version": "3.7.1"
  }
 },
 "nbformat": 4,
 "nbformat_minor": 2
}
