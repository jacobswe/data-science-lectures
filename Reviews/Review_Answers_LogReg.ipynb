{
 "cells": [
  {
   "cell_type": "code",
   "execution_count": 42,
   "metadata": {},
   "outputs": [],
   "source": [
    "from sklearn.linear_model import LogisticRegression\n",
    "from sklearn.model_selection import train_test_split\n",
    "from sklearn.model_selection import cross_val_score\n",
    "from sklearn import datasets\n",
    "from sklearn import metrics\n",
    "\n",
    "import statsmodels.api as sm\n",
    "\n",
    "import numpy as np\n",
    "import pandas as pd\n",
    "from matplotlib import pyplot as plt\n",
    "import seaborn as sns\n",
    "sns.set()"
   ]
  },
  {
   "cell_type": "markdown",
   "metadata": {},
   "source": [
    "## Logistic Regression Review\n",
    "Please complete these series of exercises within your groups.\n",
    "\n",
    "1) Create a logistic regression model based on the data below.\n",
    "\n",
    "2) Determine which predictors are significant. (Use sm.logit() and p<0.1)\n",
    "\n",
    "3) Split Test/Train and re-run the model now that you have chosen only significant variables. (Use SKLearn's LogisticRegression). Find test accuracy.\n",
    "\n",
    "4) Figure out what your best value for $C=\\frac{1}{\\lambda}$ is. (Test at least 4 values)\n",
    "\n",
    "5) Re-run the model for this tuned hyperparameter.\n",
    "\n",
    "6) Create a holdout dataset.\n",
    "\n",
    "7) Find the holdout accuracy\n",
    "\n",
    "8) Find the 5-fold cross-validation on the non-holdout data (using cross_val_score)\n",
    "\n",
    "9) Create a confusion matrix for this new model.\n",
    "\n",
    "10) Plot your ROC curve."
   ]
  },
  {
   "cell_type": "code",
   "execution_count": 14,
   "metadata": {},
   "outputs": [],
   "source": [
    "#Data Generation\n",
    "Xs, y = datasets.make_classification(n_features=5,n_informative=3,n_redundant=0)"
   ]
  },
  {
   "cell_type": "code",
   "execution_count": 15,
   "metadata": {},
   "outputs": [
    {
     "name": "stdout",
     "output_type": "stream",
     "text": [
      "Optimization terminated successfully.\n",
      "         Current function value: 0.250960\n",
      "         Iterations 8\n"
     ]
    }
   ],
   "source": [
    "#Step 1\n",
    "logit = sm.Logit(y,Xs).fit()"
   ]
  },
  {
   "cell_type": "code",
   "execution_count": 16,
   "metadata": {},
   "outputs": [
    {
     "data": {
      "text/html": [
       "<table class=\"simpletable\">\n",
       "<caption>Logit Regression Results</caption>\n",
       "<tr>\n",
       "  <th>Dep. Variable:</th>         <td>y</td>        <th>  No. Observations:  </th>  <td>   100</td>  \n",
       "</tr>\n",
       "<tr>\n",
       "  <th>Model:</th>               <td>Logit</td>      <th>  Df Residuals:      </th>  <td>    95</td>  \n",
       "</tr>\n",
       "<tr>\n",
       "  <th>Method:</th>               <td>MLE</td>       <th>  Df Model:          </th>  <td>     4</td>  \n",
       "</tr>\n",
       "<tr>\n",
       "  <th>Date:</th>          <td>Fri, 15 Mar 2019</td> <th>  Pseudo R-squ.:     </th>  <td>0.6379</td>  \n",
       "</tr>\n",
       "<tr>\n",
       "  <th>Time:</th>              <td>01:21:28</td>     <th>  Log-Likelihood:    </th> <td> -25.096</td> \n",
       "</tr>\n",
       "<tr>\n",
       "  <th>converged:</th>           <td>True</td>       <th>  LL-Null:           </th> <td> -69.315</td> \n",
       "</tr>\n",
       "<tr>\n",
       "  <th> </th>                      <td> </td>        <th>  LLR p-value:       </th> <td>2.827e-18</td>\n",
       "</tr>\n",
       "</table>\n",
       "<table class=\"simpletable\">\n",
       "<tr>\n",
       "   <td></td>     <th>coef</th>     <th>std err</th>      <th>z</th>      <th>P>|z|</th>  <th>[0.025</th>    <th>0.975]</th>  \n",
       "</tr>\n",
       "<tr>\n",
       "  <th>x1</th> <td>   -0.5559</td> <td>    0.397</td> <td>   -1.402</td> <td> 0.161</td> <td>   -1.333</td> <td>    0.221</td>\n",
       "</tr>\n",
       "<tr>\n",
       "  <th>x2</th> <td>    2.5942</td> <td>    0.568</td> <td>    4.568</td> <td> 0.000</td> <td>    1.481</td> <td>    3.707</td>\n",
       "</tr>\n",
       "<tr>\n",
       "  <th>x3</th> <td>    0.3510</td> <td>    0.365</td> <td>    0.962</td> <td> 0.336</td> <td>   -0.364</td> <td>    1.066</td>\n",
       "</tr>\n",
       "<tr>\n",
       "  <th>x4</th> <td>    0.6168</td> <td>    0.299</td> <td>    2.062</td> <td> 0.039</td> <td>    0.031</td> <td>    1.203</td>\n",
       "</tr>\n",
       "<tr>\n",
       "  <th>x5</th> <td>    0.5535</td> <td>    0.332</td> <td>    1.668</td> <td> 0.095</td> <td>   -0.097</td> <td>    1.204</td>\n",
       "</tr>\n",
       "</table>"
      ],
      "text/plain": [
       "<class 'statsmodels.iolib.summary.Summary'>\n",
       "\"\"\"\n",
       "                           Logit Regression Results                           \n",
       "==============================================================================\n",
       "Dep. Variable:                      y   No. Observations:                  100\n",
       "Model:                          Logit   Df Residuals:                       95\n",
       "Method:                           MLE   Df Model:                            4\n",
       "Date:                Fri, 15 Mar 2019   Pseudo R-squ.:                  0.6379\n",
       "Time:                        01:21:28   Log-Likelihood:                -25.096\n",
       "converged:                       True   LL-Null:                       -69.315\n",
       "                                        LLR p-value:                 2.827e-18\n",
       "==============================================================================\n",
       "                 coef    std err          z      P>|z|      [0.025      0.975]\n",
       "------------------------------------------------------------------------------\n",
       "x1            -0.5559      0.397     -1.402      0.161      -1.333       0.221\n",
       "x2             2.5942      0.568      4.568      0.000       1.481       3.707\n",
       "x3             0.3510      0.365      0.962      0.336      -0.364       1.066\n",
       "x4             0.6168      0.299      2.062      0.039       0.031       1.203\n",
       "x5             0.5535      0.332      1.668      0.095      -0.097       1.204\n",
       "==============================================================================\n",
       "\"\"\""
      ]
     },
     "execution_count": 16,
     "metadata": {},
     "output_type": "execute_result"
    }
   ],
   "source": [
    "#Step 2\n",
    "logit.summary()"
   ]
  },
  {
   "cell_type": "code",
   "execution_count": 30,
   "metadata": {},
   "outputs": [
    {
     "name": "stdout",
     "output_type": "stream",
     "text": [
      "Accuracy: 0.9\n"
     ]
    }
   ],
   "source": [
    "#Step 3\n",
    "sigx = pd.DataFrame(Xs).iloc[:,[1,3,4]]\n",
    "X_train, X_test, y_train, y_test = train_test_split(sigx, y, test_size=0.2)\n",
    "\n",
    "logreg = LogisticRegression(solver='lbfgs').fit(X_train,y_train)\n",
    "print('Accuracy:',logreg.score(X_test,y_test))"
   ]
  },
  {
   "cell_type": "code",
   "execution_count": 36,
   "metadata": {},
   "outputs": [
    {
     "name": "stdout",
     "output_type": "stream",
     "text": [
      "[0.9, 0.9, 0.9, 0.9]\n"
     ]
    }
   ],
   "source": [
    "#Step 4\n",
    "Cs = [0.1,1,10,100]\n",
    "accs = []\n",
    "logreg = LogisticRegression(solver='lbfgs')\n",
    "\n",
    "for i in Cs:\n",
    "    logreg.fit(X_train,y_train)\n",
    "    accs.append(logreg.score(X_test,y_test))\n",
    "    \n",
    "print(accs)"
   ]
  },
  {
   "cell_type": "code",
   "execution_count": 34,
   "metadata": {},
   "outputs": [
    {
     "name": "stdout",
     "output_type": "stream",
     "text": [
      "0.85\n"
     ]
    }
   ],
   "source": [
    "#Step 5\n",
    "logreg = LogisticRegression(solver='lbfgs',C=0.1)\n",
    "logreg.fit(X_train,y_train)\n",
    "print(logreg.score(X_test,y_test))"
   ]
  },
  {
   "cell_type": "code",
   "execution_count": 37,
   "metadata": {},
   "outputs": [],
   "source": [
    "#Step 6\n",
    "X_train, X_ho, y_train, y_ho = train_test_split(sigx, y, test_size=0.2)"
   ]
  },
  {
   "cell_type": "code",
   "execution_count": 40,
   "metadata": {},
   "outputs": [
    {
     "name": "stdout",
     "output_type": "stream",
     "text": [
      "0.85\n"
     ]
    }
   ],
   "source": [
    "#Step 7\n",
    "logreg = LogisticRegression(solver='lbfgs',C=0.1)\n",
    "logreg.fit(X_train,y_train)\n",
    "print(logreg.score(X_ho,y_ho))"
   ]
  },
  {
   "cell_type": "code",
   "execution_count": 39,
   "metadata": {},
   "outputs": [
    {
     "name": "stdout",
     "output_type": "stream",
     "text": [
      "0.9027777777777779\n"
     ]
    }
   ],
   "source": [
    "#Step 8\n",
    "print(cross_val_score(logreg,X_train,y_train,cv=10).mean())"
   ]
  },
  {
   "cell_type": "code",
   "execution_count": 48,
   "metadata": {},
   "outputs": [
    {
     "name": "stdout",
     "output_type": "stream",
     "text": [
      "[[10  0]\n",
      " [ 3  7]]\n"
     ]
    }
   ],
   "source": [
    "#Step 9\n",
    "logreg = LogisticRegression(solver='lbfgs',C=0.1)\n",
    "logreg.fit(X_train,y_train)\n",
    "print(metrics.confusion_matrix(y_ho,logreg.predict(X_ho)).transpose())"
   ]
  },
  {
   "cell_type": "code",
   "execution_count": 49,
   "metadata": {},
   "outputs": [
    {
     "data": {
      "image/png": "[encoded data removed]",
      "text/plain": [
       "<Figure size 432x288 with 1 Axes>"
      ]
     },
     "metadata": {},
     "output_type": "display_data"
    }
   ],
   "source": [
    "#Step 10\n",
    "X_train, X_test, y_train, y_test = train_test_split(sigx, y, test_size=0.4)\n",
    "logreg = LogisticRegression(solver='lbfgs',C=0.1)\n",
    "logreg.fit(X_train,y_train)\n",
    "aucscore = metrics.roc_auc_score(logreg.predict(X_test),y_test)\n",
    "\n",
    "##Computing false and true positive rates\n",
    "fpr, tpr,_= metrics.roc_curve(logreg.predict(X_test),y_test,drop_intermediate=False)\n",
    "\n",
    "##Adding the ROC\n",
    "plt.plot(fpr, tpr, color='red',lw=2, label='ROC curve')\n",
    "plt.plot([0, 1], [0, 1], color='blue', lw=2, linestyle='--')\n",
    "plt.xlabel('FPR')\n",
    "plt.ylabel('TPR')\n",
    "plt.title('ROC Curve AUC = '+str(aucscore.round(4)))\n",
    "plt.show()"
   ]
  },
  {
   "cell_type": "code",
   "execution_count": null,
   "metadata": {},
   "outputs": [],
   "source": []
  }
 ],
 "metadata": {
  "kernelspec": {
   "display_name": "Python 3",
   "language": "python",
   "name": "python3"
  },
  "language_info": {
   "codemirror_mode": {
    "name": "ipython",
    "version": 3
   },
   "file_extension": ".py",
   "mimetype": "text/x-python",
   "name": "python",
   "nbconvert_exporter": "python",
   "pygments_lexer": "ipython3",
   "version": "3.7.1"
  }
 },
 "nbformat": 4,
 "nbformat_minor": 2
}
