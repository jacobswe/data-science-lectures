{
 "cells": [
  {
   "cell_type": "code",
   "execution_count": 2,
   "metadata": {},
   "outputs": [],
   "source": [
    "import pandas as pd\n",
    "import numpy as np\n",
    "import seaborn as sns\n",
    "sns.set()\n",
    "from matplotlib import pyplot as plt"
   ]
  },
  {
   "cell_type": "markdown",
   "metadata": {},
   "source": [
    "# Review Questions"
   ]
  },
  {
   "cell_type": "markdown",
   "metadata": {},
   "source": [
    "### Numpy"
   ]
  },
  {
   "cell_type": "code",
   "execution_count": 3,
   "metadata": {},
   "outputs": [],
   "source": [
    "#Create a list of one integer\n",
    "l = [1]"
   ]
  },
  {
   "cell_type": "code",
   "execution_count": 4,
   "metadata": {},
   "outputs": [],
   "source": [
    "#Add three new integers to this list\n",
    "l.extend([2,3,4])"
   ]
  },
  {
   "cell_type": "code",
   "execution_count": 5,
   "metadata": {},
   "outputs": [],
   "source": [
    "#Create a numpy array of the list of integers\n",
    "n = np.array(l)"
   ]
  },
  {
   "cell_type": "code",
   "execution_count": 6,
   "metadata": {},
   "outputs": [],
   "source": [
    "#Multiply each of the elements by three and create a new list of the results\n",
    "n2 = n*3"
   ]
  },
  {
   "cell_type": "code",
   "execution_count": 7,
   "metadata": {},
   "outputs": [],
   "source": [
    "#Add to the end of this new list a single random normal element\n",
    "n2 = np.append(n2,np.random.randn(1)[0])"
   ]
  },
  {
   "cell_type": "code",
   "execution_count": 8,
   "metadata": {},
   "outputs": [
    {
     "name": "stdout",
     "output_type": "stream",
     "text": [
      "n2 Length: 5\n",
      "n2 Sum: 30.15018822095841\n",
      "n2 Mean: 6.030037644191681\n"
     ]
    }
   ],
   "source": [
    "#Print out the length, sum, and mean of the new list\n",
    "print('n2 Length:',len(n2))\n",
    "print('n2 Sum:',sum(n2))\n",
    "print('n2 Mean:',n2.mean())"
   ]
  },
  {
   "cell_type": "markdown",
   "metadata": {},
   "source": [
    "### Pandas"
   ]
  },
  {
   "cell_type": "code",
   "execution_count": 9,
   "metadata": {},
   "outputs": [
    {
     "name": "stdout",
     "output_type": "stream",
     "text": [
      "\n",
      "Normal DataFrame (10, 2) :\n",
      "           A         B\n",
      "0  1.089539  1.530940\n",
      "1 -1.187606 -0.849596\n",
      "2 -0.819685 -0.051758\n",
      "3  0.638901 -1.106606\n",
      "4 -0.764736 -0.391878\n",
      "5 -0.157523  0.069407\n",
      "6  0.195588 -1.317963\n",
      "7  0.066238 -0.648067\n",
      "8  0.832517 -1.451295\n",
      "9 -0.239601  0.127849\n"
     ]
    }
   ],
   "source": [
    "#Create a dataframe of shape (10,2) with random normal variables as the body and ('A','B') as columns\n",
    "df = pd.DataFrame({'A':np.random.randn(10),'B':np.random.randn(10)})\n",
    "print('\\nNormal DataFrame',df.shape,':\\n',df)"
   ]
  },
  {
   "cell_type": "code",
   "execution_count": 10,
   "metadata": {},
   "outputs": [
    {
     "data": {
      "text/plain": [
       "0    1.530940\n",
       "1   -0.849596\n",
       "2   -0.051758\n",
       "Name: B, dtype: float64"
      ]
     },
     "execution_count": 10,
     "metadata": {},
     "output_type": "execute_result"
    }
   ],
   "source": [
    "#Using the loc() function, find the first three elements of 'B'. Print the result.\n",
    "df.loc[:2,'B']"
   ]
  },
  {
   "cell_type": "code",
   "execution_count": 11,
   "metadata": {},
   "outputs": [
    {
     "data": {
      "text/plain": [
       "8    0.832517\n",
       "9   -0.239601\n",
       "Name: A, dtype: float64"
      ]
     },
     "execution_count": 11,
     "metadata": {},
     "output_type": "execute_result"
    }
   ],
   "source": [
    "#Using the iloc() function, find the last two elements of 'A'. Print the result.\n",
    "df.iloc[8:,0]"
   ]
  },
  {
   "cell_type": "code",
   "execution_count": 14,
   "metadata": {},
   "outputs": [
    {
     "name": "stdout",
     "output_type": "stream",
     "text": [
      "          A         B         C\n",
      "0  1.089539  1.530940 -0.239601\n",
      "1 -1.187606 -0.849596  0.832517\n",
      "2 -0.819685 -0.051758  0.066238\n",
      "3  0.638901 -1.106606  0.195588\n",
      "4 -0.764736 -0.391878 -0.157523\n",
      "5 -0.157523  0.069407 -0.764736\n",
      "6  0.195588 -1.317963  0.638901\n",
      "7  0.066238 -0.648067 -0.819685\n",
      "8  0.832517 -1.451295 -1.187606\n",
      "9 -0.239601  0.127849  1.089539\n"
     ]
    }
   ],
   "source": [
    "#Create a new column of 'A' in reverse order, name it 'C'. Print the table.\n",
    "df['C'] = df.loc[::-1,'A'].values\n",
    "print(df)"
   ]
  },
  {
   "cell_type": "code",
   "execution_count": 13,
   "metadata": {},
   "outputs": [
    {
     "name": "stdout",
     "output_type": "stream",
     "text": [
      "5    0.069407\n",
      "9    0.127849\n",
      "Name: B, dtype: float64\n"
     ]
    }
   ],
   "source": [
    "#Print the values of 'B' that are greater than zero but less than 1\n",
    "print(df[(df['B']>0) & (df['B']<1)].loc[:,'B'])"
   ]
  },
  {
   "cell_type": "markdown",
   "metadata": {},
   "source": [
    "### Seaborn\n",
    "#### FacetGrid versus AxesSubplot\n",
    "I felt that this was unclear leaving our last session, so we will review this quickly in slightly more detail than was gone into at the previous session. Recall that there are two different types of objects returned by methods in Seaborn, an AxesSubplot and a FacetGrid"
   ]
  },
  {
   "cell_type": "code",
   "execution_count": 15,
   "metadata": {},
   "outputs": [
    {
     "name": "stdout",
     "output_type": "stream",
     "text": [
      "sns.relplot() Type: <class 'seaborn.axisgrid.FacetGrid'>\n",
      "sns.scatterplot() Type: <class 'matplotlib.axes._subplots.AxesSubplot'>\n"
     ]
    }
   ],
   "source": [
    "print('sns.relplot() Type:',type(sns.relplot(x='X',y='Y',data=pd.DataFrame({'X':[0],'Y':[0]}))))\n",
    "print('sns.scatterplot() Type:',type(sns.scatterplot(x='X',y='Y',data=pd.DataFrame({'X':[0],'Y':[0]}))))\n",
    "plt.close()"
   ]
  },
  {
   "cell_type": "markdown",
   "metadata": {},
   "source": [
    "The difference between the two is slight but important. The AxesSubplot allows you to layer a plot on top of an existing FacetGrid. Likewise, the FacetGrid acts as a base over which different Axes can be plotted.\n",
    "\n",
    "For example:"
   ]
  },
  {
   "cell_type": "code",
   "execution_count": 16,
   "metadata": {},
   "outputs": [
    {
     "data": {
      "text/plain": [
       "<seaborn.axisgrid.FacetGrid at 0x11f53ab70>"
      ]
     },
     "execution_count": 16,
     "metadata": {},
     "output_type": "execute_result"
    },
    {
     "data": {
      "image/png": "[encoded data removed]",
      "text/plain": [
       "<Figure size 216x216 with 1 Axes>"
      ]
     },
     "metadata": {
      "needs_background": "light"
     },
     "output_type": "display_data"
    }
   ],
   "source": [
    "X = np.random.randn(10)\n",
    "Y = np.random.randn(10)\n",
    "sns.FacetGrid(data=pd.DataFrame({'X':X,'Y':Y}))"
   ]
  },
  {
   "cell_type": "markdown",
   "metadata": {},
   "source": [
    "This is a FacetGrid, a blank slate with some data that has not been visualized. On top of this, we can plot a scatterplot()."
   ]
  },
  {
   "cell_type": "code",
   "execution_count": 17,
   "metadata": {},
   "outputs": [
    {
     "data": {
      "text/plain": [
       "<matplotlib.axes._subplots.AxesSubplot at 0x11f53a128>"
      ]
     },
     "execution_count": 17,
     "metadata": {},
     "output_type": "execute_result"
    },
    {
     "data": {
      "image/png": "[encoded data removed]",
      "text/plain": [
       "<Figure size 216x216 with 1 Axes>"
      ]
     },
     "metadata": {
      "needs_background": "light"
     },
     "output_type": "display_data"
    }
   ],
   "source": [
    "sns.FacetGrid(data=pd.DataFrame({'X':X,'Y':Y}))\n",
    "sns.scatterplot(x='X',y='Y',data=pd.DataFrame({'X':X,'Y':Y}))"
   ]
  },
  {
   "cell_type": "markdown",
   "metadata": {},
   "source": [
    "But, we cannot overlay a relplot() as it creates a new FacetGrid."
   ]
  },
  {
   "cell_type": "code",
   "execution_count": 18,
   "metadata": {},
   "outputs": [
    {
     "data": {
      "text/plain": [
       "<seaborn.axisgrid.FacetGrid at 0x11f53a908>"
      ]
     },
     "execution_count": 18,
     "metadata": {},
     "output_type": "execute_result"
    },
    {
     "data": {
      "image/png": "[encoded data removed]",
      "text/plain": [
       "<Figure size 216x216 with 1 Axes>"
      ]
     },
     "metadata": {
      "needs_background": "light"
     },
     "output_type": "display_data"
    },
    {
     "data": {
      "image/png": "[encoded data removed]",
      "text/plain": [
       "<Figure size 360x360 with 1 Axes>"
      ]
     },
     "metadata": {
      "needs_background": "light"
     },
     "output_type": "display_data"
    }
   ],
   "source": [
    "sns.FacetGrid(data=pd.DataFrame({'X':X,'Y':Y}))\n",
    "sns.relplot(x='X',y='Y',data=pd.DataFrame({'X':X,'Y':Y}))"
   ]
  },
  {
   "cell_type": "markdown",
   "metadata": {},
   "source": [
    "However, since relplot() creates a new FacetGrid, we can plot on top of it."
   ]
  },
  {
   "cell_type": "code",
   "execution_count": 19,
   "metadata": {},
   "outputs": [
    {
     "data": {
      "text/plain": [
       "<matplotlib.axes._subplots.AxesSubplot at 0x121724b70>"
      ]
     },
     "execution_count": 19,
     "metadata": {},
     "output_type": "execute_result"
    },
    {
     "data": {
      "image/png": "[encoded data removed]",
      "text/plain": [
       "<Figure size 360x360 with 1 Axes>"
      ]
     },
     "metadata": {
      "needs_background": "light"
     },
     "output_type": "display_data"
    }
   ],
   "source": [
    "sns.relplot(x='X',y='Y',data=pd.DataFrame({'X':X,'Y':Y}))\n",
    "sns.lineplot(x='X',y='Y',data=pd.DataFrame({'X':X,'Y':Y}))"
   ]
  },
  {
   "cell_type": "markdown",
   "metadata": {},
   "source": [
    "Finally, let's establish which methods return FacetGrids and return to our lesson."
   ]
  },
  {
   "cell_type": "code",
   "execution_count": 20,
   "metadata": {},
   "outputs": [
    {
     "name": "stdout",
     "output_type": "stream",
     "text": [
      "sns.relplot() Type: <class 'seaborn.axisgrid.FacetGrid'>\n",
      "sns.catplot() Type: <class 'seaborn.axisgrid.FacetGrid'>\n",
      "sns.lmplot() Type: <class 'seaborn.axisgrid.FacetGrid'>\n"
     ]
    },
    {
     "name": "stderr",
     "output_type": "stream",
     "text": [
      "/Users/jacobswe/miniconda3/lib/python3.7/site-packages/scipy/stats/stats.py:1713: FutureWarning: Using a non-tuple sequence for multidimensional indexing is deprecated; use `arr[tuple(seq)]` instead of `arr[seq]`. In the future this will be interpreted as an array index, `arr[np.array(seq)]`, which will result either in an error or a different result.\n",
      "  return np.add.reduce(sorted[indexer] * weights, axis=axis) / sumval\n"
     ]
    }
   ],
   "source": [
    "print('sns.relplot() Type:',type(sns.relplot(x='X',y='Y',data=pd.DataFrame({'X':[0],'Y':[0]})))); plt.close()\n",
    "print('sns.catplot() Type:',type(sns.catplot(x='X',y='Y',data=pd.DataFrame({'X':[0],'Y':[0]})))); plt.close()\n",
    "print('sns.lmplot() Type:',type(sns.lmplot(x='X',y='Y',data=pd.DataFrame({'X':[0],'Y':[0]})))); plt.close()"
   ]
  },
  {
   "cell_type": "code",
   "execution_count": 26,
   "metadata": {},
   "outputs": [
    {
     "data": {
      "text/plain": [
       "<matplotlib.axes._subplots.AxesSubplot at 0x121b08b00>"
      ]
     },
     "execution_count": 26,
     "metadata": {},
     "output_type": "execute_result"
    },
    {
     "data": {
      "image/png": "[encoded data removed]",
      "text/plain": [
       "<Figure size 720x360 with 6 Axes>"
      ]
     },
     "metadata": {
      "needs_background": "light"
     },
     "output_type": "display_data"
    }
   ],
   "source": [
    "fig, axs = plt.subplots(ncols=2,nrows=3,figsize=(10,5))\n",
    "sns.scatterplot(x='X',y='Y',data=pd.DataFrame({'X':X,'Y':Y}),ax=axs[0,0])\n",
    "sns.lineplot(x='X',y='Y',data=pd.DataFrame({'X':X,'Y':Y}),ax=axs[1,1])"
   ]
  },
  {
   "cell_type": "code",
   "execution_count": null,
   "metadata": {},
   "outputs": [],
   "source": []
  }
 ],
 "metadata": {
  "kernelspec": {
   "display_name": "Python 3",
   "language": "python",
   "name": "python3"
  },
  "language_info": {
   "codemirror_mode": {
    "name": "ipython",
    "version": 3
   },
   "file_extension": ".py",
   "mimetype": "text/x-python",
   "name": "python",
   "nbconvert_exporter": "python",
   "pygments_lexer": "ipython3",
   "version": "3.7.1"
  }
 },
 "nbformat": 4,
 "nbformat_minor": 2
}
